{
 "cells": [
  {
   "cell_type": "markdown",
   "metadata": {},
   "source": [
    "# Runs Kin figures \n",
    "## (avoids reloading COS-Halos)"
   ]
  },
  {
   "cell_type": "code",
   "execution_count": 1,
   "metadata": {
    "collapsed": false
   },
   "outputs": [
    {
     "name": "stdout",
     "output_type": "stream",
     "text": [
      "-----------------------------------------------------------\n",
      "-----------------------------------------------------------\n",
      "WARNING: Not loading model in xastropy.fN   \n",
      " Install pymc if you want it\n",
      "-----------------------------------------------------------\n"
     ]
    },
    {
     "name": "stderr",
     "output_type": "stream",
     "text": [
      "/Users/xavier/anaconda/lib/python2.7/site-packages/astroquery/sdss/__init__.py:33: UserWarning: Experimental: SDSS has not yet been refactored to have its API match the rest of astroquery (but it's nearly there).\n",
      "  warnings.warn(\"Experimental: SDSS has not yet been refactored to have its API \"\n"
     ]
    }
   ],
   "source": [
    "# imports\n",
    "from xastropy.cgm import cos_halos as cosha\n",
    "import tlk_cgm_kin as tkin"
   ]
  },
  {
   "cell_type": "markdown",
   "metadata": {},
   "source": [
    "## Load COS-Halos"
   ]
  },
  {
   "cell_type": "code",
   "execution_count": 2,
   "metadata": {
    "collapsed": false
   },
   "outputs": [
    {
     "name": "stdout",
     "output_type": "stream",
     "text": [
      "cos_halos: Reading /u/xavier/Dropbox/COS-Halos/lowions/FITS/J0226+0015.268_22.fits\n",
      "cos_halos: Reading /u/xavier/Dropbox/COS-Halos/lowions/FITS/J0401-0540.67_24.fits\n",
      "cos_halos: Reading /u/xavier/Dropbox/COS-Halos/lowions/FITS/J0803+4332.306_20.fits\n",
      "cos_halos: Reading /u/xavier/Dropbox/COS-Halos/lowions/FITS/J0910+1014.242_34.fits\n",
      "cos_halos: Reading /u/xavier/Dropbox/COS-Halos/lowions/FITS/J0910+1014.34_46.fits\n",
      "cos_halos: Reading /u/xavier/Dropbox/COS-Halos/lowions/FITS/J0914+2823.41_27.fits\n",
      "cos_halos: Reading /u/xavier/Dropbox/COS-Halos/lowions/FITS/J0925+4004.196_22.fits\n",
      "cos_halos: Reading /u/xavier/Dropbox/COS-Halos/lowions/FITS/J0928+6025.110_35.fits\n",
      "cos_halos: Reading /u/xavier/Dropbox/COS-Halos/lowions/FITS/J0935+0204.15_28.fits\n",
      "cos_halos: Reading /u/xavier/Dropbox/COS-Halos/lowions/FITS/J0943+0531.106_34.fits\n",
      "cos_halos: Reading /u/xavier/Dropbox/COS-Halos/lowions/FITS/J0943+0531.216_61.fits\n",
      "cos_halos: Reading /u/xavier/Dropbox/COS-Halos/lowions/FITS/J0943+0531.227_19.fits\n",
      "cos_halos: Reading /u/xavier/Dropbox/COS-Halos/lowions/FITS/J0950+4831.177_27.fits\n",
      "cos_halos: Reading /u/xavier/Dropbox/COS-Halos/lowions/FITS/J1009+0713.170_9.fits\n",
      "cos_halos: Reading /u/xavier/Dropbox/COS-Halos/lowions/FITS/J1009+0713.204_17.fits\n",
      "cos_halos: Reading /u/xavier/Dropbox/COS-Halos/lowions/FITS/J1016+4706.274_6.fits\n",
      "cos_halos: Reading /u/xavier/Dropbox/COS-Halos/lowions/FITS/J1016+4706.359_16.fits\n",
      "cos_halos: Reading /u/xavier/Dropbox/COS-Halos/lowions/FITS/J1112+3539.236_14.fits\n",
      "cos_halos: Reading /u/xavier/Dropbox/COS-Halos/lowions/FITS/J1133+0327.110_5.fits\n",
      "cos_halos: Reading /u/xavier/Dropbox/COS-Halos/lowions/FITS/J1133+0327.164_21.fits\n",
      "cos_halos: Reading /u/xavier/Dropbox/COS-Halos/lowions/FITS/J1157-0022.230_7.fits\n",
      "cos_halos: Reading /u/xavier/Dropbox/COS-Halos/lowions/FITS/J1220+3853.225_38.fits\n",
      "cos_halos: Reading /u/xavier/Dropbox/COS-Halos/lowions/FITS/J1233+4758.94_38.fits\n",
      "cos_halos: Reading /u/xavier/Dropbox/COS-Halos/lowions/FITS/J1233-0031.168_7.fits\n",
      "cos_halos: Reading /u/xavier/Dropbox/COS-Halos/lowions/FITS/J1241+5721.199_6.fits\n",
      "cos_halos: Reading /u/xavier/Dropbox/COS-Halos/lowions/FITS/J1241+5721.208_27.fits\n",
      "cos_halos: Reading /u/xavier/Dropbox/COS-Halos/lowions/FITS/J1245+3356.236_36.fits\n",
      "cos_halos: Reading /u/xavier/Dropbox/COS-Halos/lowions/FITS/J1322+4645.349_11.fits\n",
      "cos_halos: Reading /u/xavier/Dropbox/COS-Halos/lowions/FITS/J1330+2813.289_28.fits\n",
      "cos_halos: Reading /u/xavier/Dropbox/COS-Halos/lowions/FITS/J1342-0053.157_10.fits\n",
      "cos_halos: Reading /u/xavier/Dropbox/COS-Halos/lowions/FITS/J1342-0053.77_10.fits\n",
      "cos_halos: Reading /u/xavier/Dropbox/COS-Halos/lowions/FITS/J1419+4207.132_30.fits\n",
      "cos_halos: Reading /u/xavier/Dropbox/COS-Halos/lowions/FITS/J1435+3604.126_21.fits\n",
      "cos_halos: Reading /u/xavier/Dropbox/COS-Halos/lowions/FITS/J1435+3604.68_12.fits\n",
      "cos_halos: Reading /u/xavier/Dropbox/COS-Halos/lowions/FITS/J1437+5045.317_38.fits\n",
      "cos_halos: Reading /u/xavier/Dropbox/COS-Halos/lowions/FITS/J1445+3428.232_33.fits\n",
      "cos_halos: Reading /u/xavier/Dropbox/COS-Halos/lowions/FITS/J1514+3619.287_14.fits\n",
      "cos_halos: Reading /u/xavier/Dropbox/COS-Halos/lowions/FITS/J1550+4001.197_23.fits\n",
      "cos_halos: Reading /u/xavier/Dropbox/COS-Halos/lowions/FITS/J1550+4001.97_33.fits\n",
      "cos_halos: Reading /u/xavier/Dropbox/COS-Halos/lowions/FITS/J1555+3628.88_11.fits\n",
      "cos_halos: Reading /u/xavier/Dropbox/COS-Halos/lowions/FITS/J1617+0638.253_39.fits\n",
      "cos_halos: Reading /u/xavier/Dropbox/COS-Halos/lowions/FITS/J1619+3342.113_40.fits\n",
      "cos_halos: Reading /u/xavier/Dropbox/COS-Halos/lowions/FITS/J2257+1340.270_40.fits\n",
      "cos_halos: Reading /u/xavier/Dropbox/COS-Halos/lowions/FITS/J2345-0059.356_12.fits\n"
     ]
    }
   ],
   "source": [
    "cos_halos = cosha.COSHalos()\n",
    "cos_halos.load_mega(skip_ions=True)"
   ]
  },
  {
   "cell_type": "code",
   "execution_count": 3,
   "metadata": {
    "collapsed": false
   },
   "outputs": [
    {
     "name": "stdout",
     "output_type": "stream",
     "text": [
      "load_kin: No kinemtaics for J0935+0204, 15_28\n",
      "load_kin: No kinemtaics for J1342-0053, 77_10\n",
      "load_kin: No kinemtaics for J1550+4001, 97_33\n",
      "load_kin: No kinemtaics for J1617+0638, 253_39\n",
      "load_kin: No kinemtaics for J2257+1340, 270_40\n"
     ]
    }
   ],
   "source": [
    "# Kin\n",
    "cos_halos.load_abskin(flg=1)"
   ]
  },
  {
   "cell_type": "code",
   "execution_count": 18,
   "metadata": {
    "collapsed": false
   },
   "outputs": [
    {
     "data": {
      "text/html": [
       "&lt;Column name=&apos;delta_v&apos; dtype=&apos;float32&apos; length=2&gt;\n",
       "<table>\n",
       "<tr><td>0.0</td></tr>\n",
       "<tr><td>-28.8031</td></tr>\n",
       "</table>"
      ],
      "text/plain": [
       "<Column name='delta_v' dtype='float32' length=2>\n",
       "     0.0\n",
       "-28.8031"
      ]
     },
     "execution_count": 18,
     "metadata": {},
     "output_type": "execute_result"
    }
   ],
   "source": [
    "cos_halos.abs_kin('Metal')['delta_v'][0:2]"
   ]
  },
  {
   "cell_type": "markdown",
   "metadata": {},
   "source": [
    "### Figures"
   ]
  },
  {
   "cell_type": "code",
   "execution_count": 29,
   "metadata": {
    "collapsed": false
   },
   "outputs": [
    {
     "name": "stdout",
     "output_type": "stream",
     "text": [
      "tlk_coshalos: Wrote fig_coshalo_kin_hist.pdf\n"
     ]
    }
   ],
   "source": [
    "# Histograms\n",
    "reload(tkin)\n",
    "tkin.fig_coshalo_hist(cos_halos=cos_halos)"
   ]
  },
  {
   "cell_type": "code",
   "execution_count": 49,
   "metadata": {
    "collapsed": false
   },
   "outputs": [
    {
     "name": "stdout",
     "output_type": "stream",
     "text": [
      "tlk_coshalos: Wrote fig_coshalo_kin_corr.pdf\n"
     ]
    }
   ],
   "source": [
    "# Correlations\n",
    "reload(tkin)\n",
    "tkin.fig_coshalo_corr(cos_halos=cos_halos)"
   ]
  },
  {
   "cell_type": "markdown",
   "metadata": {},
   "source": [
    "## COS-Dwarfs"
   ]
  },
  {
   "cell_type": "code",
   "execution_count": 1,
   "metadata": {
    "collapsed": false
   },
   "outputs": [
    {
     "name": "stdout",
     "output_type": "stream",
     "text": [
      "-----------------------------------------------------------\n",
      "-----------------------------------------------------------\n",
      "WARNING: Not loading model in xastropy.fN   \n",
      " Install pymc if you want it\n",
      "-----------------------------------------------------------\n"
     ]
    },
    {
     "name": "stderr",
     "output_type": "stream",
     "text": [
      "/Users/xavier/anaconda/lib/python2.7/site-packages/astroquery/sdss/__init__.py:33: UserWarning: Experimental: SDSS has not yet been refactored to have its API match the rest of astroquery (but it's nearly there).\n",
      "  warnings.warn(\"Experimental: SDSS has not yet been refactored to have its API \"\n"
     ]
    }
   ],
   "source": [
    "# import\n",
    "from xastropy.cgm import cos_halos as cosha\n",
    "import tlk_cgm_kin as tkin"
   ]
  },
  {
   "cell_type": "code",
   "execution_count": 2,
   "metadata": {
    "collapsed": false
   },
   "outputs": [
    {
     "name": "stdout",
     "output_type": "stream",
     "text": [
      "cos_halos: Reading /u/xavier/Dropbox/COS-Dwarfs/Targets/FITS/J0042-1037.358_9.fits\n",
      "cos_halos: Reading /u/xavier/Dropbox/COS-Dwarfs/Targets/FITS/J0155-0857.329_403.fits\n",
      "cos_halos: Reading /u/xavier/Dropbox/COS-Dwarfs/Targets/FITS/J0212-0737.334_153.fits\n",
      "cos_halos: Reading /u/xavier/Dropbox/COS-Dwarfs/Targets/FITS/J0242-0759.84_223.fits\n",
      "cos_halos: Reading /u/xavier/Dropbox/COS-Dwarfs/Targets/FITS/J0310-0049.124_197.fits\n",
      "cos_halos: Reading /u/xavier/Dropbox/COS-Dwarfs/Targets/FITS/J0809+4619.257_269.fits\n",
      "cos_halos: Reading /u/xavier/Dropbox/COS-Dwarfs/Targets/FITS/J0820+2334.260_17.fits\n",
      "cos_halos: Reading /u/xavier/Dropbox/COS-Dwarfs/Targets/FITS/J0826+0742.69_79.fits\n",
      "cos_halos: Reading /u/xavier/Dropbox/COS-Dwarfs/Targets/FITS/J0843+4117.94_177.fits\n",
      "cos_halos: Reading /u/xavier/Dropbox/COS-Dwarfs/Targets/FITS/J0912+2957.20_223.fits\n",
      "cos_halos: Reading /u/xavier/Dropbox/COS-Dwarfs/Targets/FITS/J0925+4535.227_334.fits\n",
      "cos_halos: Reading /u/xavier/Dropbox/COS-Dwarfs/Targets/FITS/J0929+4644.172_157.fits\n",
      "cos_halos: Reading /u/xavier/Dropbox/COS-Dwarfs/Targets/FITS/J0946+4711.198_218.fits\n",
      "cos_halos: Reading /u/xavier/Dropbox/COS-Dwarfs/Targets/FITS/J0947+1005.135_580.fits\n",
      "cos_halos: Reading /u/xavier/Dropbox/COS-Dwarfs/Targets/FITS/J0949+3902.234_105.fits\n",
      "cos_halos: Reading /u/xavier/Dropbox/COS-Dwarfs/Targets/FITS/J0959+0503.318_13.fits\n",
      "cos_halos: Reading /u/xavier/Dropbox/COS-Dwarfs/Targets/FITS/J1001+5944.87_608.fits\n",
      "cos_halos: Reading /u/xavier/Dropbox/COS-Dwarfs/Targets/FITS/J1022+0132.337_29.fits\n",
      "cos_halos: Reading /u/xavier/Dropbox/COS-Dwarfs/Targets/FITS/J1059+1441.316_200.fits\n",
      "cos_halos: Reading /u/xavier/Dropbox/COS-Dwarfs/Targets/FITS/J1059+2517.247_92.fits\n",
      "cos_halos: Reading /u/xavier/Dropbox/COS-Dwarfs/Targets/FITS/J1103+4141.13_58.fits\n",
      "cos_halos: Reading /u/xavier/Dropbox/COS-Dwarfs/Targets/FITS/J1104+3141.211_65.fits\n",
      "cos_halos: Reading /u/xavier/Dropbox/COS-Dwarfs/Targets/FITS/J1117+2634.114_210.fits\n",
      "cos_halos: Reading /u/xavier/Dropbox/COS-Dwarfs/Targets/FITS/J1121+0325.73_198.fits\n",
      "cos_halos: Reading /u/xavier/Dropbox/COS-Dwarfs/Targets/FITS/J1122+5755.259_309.fits\n",
      "cos_halos: Reading /u/xavier/Dropbox/COS-Dwarfs/Targets/FITS/J1134+2555.358_76.fits\n",
      "cos_halos: Reading /u/xavier/Dropbox/COS-Dwarfs/Targets/FITS/J1207+2624.285_98.fits\n",
      "cos_halos: Reading /u/xavier/Dropbox/COS-Dwarfs/Targets/FITS/J1210+3157.65_308.fits\n",
      "cos_halos: Reading /u/xavier/Dropbox/COS-Dwarfs/Targets/FITS/J1211+3657.312_196.fits\n",
      "cos_halos: Reading /u/xavier/Dropbox/COS-Dwarfs/Targets/FITS/J1236+2641.356_25.fits\n",
      "cos_halos: Reading /u/xavier/Dropbox/COS-Dwarfs/Targets/FITS/J1327+4435.122_131.fits\n",
      "cos_halos: Reading /u/xavier/Dropbox/COS-Dwarfs/Targets/FITS/J1330+3119.70_57.fits\n",
      "cos_halos: Reading /u/xavier/Dropbox/COS-Dwarfs/Targets/FITS/J1342+0505.210_241.fits\n",
      "cos_halos: Reading /u/xavier/Dropbox/COS-Dwarfs/Targets/FITS/J1342+1844.160_190.fits\n",
      "cos_halos: Reading /u/xavier/Dropbox/COS-Dwarfs/Targets/FITS/J1342+3829.322_238.fits\n",
      "cos_halos: Reading /u/xavier/Dropbox/COS-Dwarfs/Targets/FITS/J1356+2515.182_159.fits\n",
      "cos_halos: Reading /u/xavier/Dropbox/COS-Dwarfs/Targets/FITS/J1357+1704.93_248.fits\n",
      "cos_halos: Reading /u/xavier/Dropbox/COS-Dwarfs/Targets/FITS/J1451+2709.184_526.fits\n",
      "cos_halos: Reading /u/xavier/Dropbox/COS-Dwarfs/Targets/FITS/J1521+0337.252_124.fits\n",
      "cos_halos: Reading /u/xavier/Dropbox/COS-Dwarfs/Targets/FITS/J1545+0936.285_81.fits\n",
      "cos_halos: Reading /u/xavier/Dropbox/COS-Dwarfs/Targets/FITS/J1616+4154.327_30.fits\n"
     ]
    }
   ],
   "source": [
    "# Load\n",
    "cos_dwarfs = cosha.COSDwarfs()\n",
    "cos_dwarfs.load_mega(skip_ions=True)"
   ]
  },
  {
   "cell_type": "code",
   "execution_count": 3,
   "metadata": {
    "collapsed": false
   },
   "outputs": [
    {
     "name": "stdout",
     "output_type": "stream",
     "text": [
      "load_kin: No kinematics for J0155-0857, 329_403\n",
      "load_kin: No kinematics for J0242-0759, 84_223\n",
      "load_kin: No kinematics for J0912+2957, 20_223\n",
      "load_kin: No kinematics for J1117+2634, 114_210\n",
      "load_kin: No kinematics for J1210+3157, 65_308\n",
      "load_kin: No kinematics for J1211+3657, 312_196\n",
      "load_kin: No kinematics for J1357+1704, 93_248\n",
      "load_kin: No kinematics for J1545+0936, 285_81\n"
     ]
    }
   ],
   "source": [
    "# Kin\n",
    "cos_dwarfs.load_abskin(flg=1)"
   ]
  },
  {
   "cell_type": "markdown",
   "metadata": {},
   "source": [
    "### Figures"
   ]
  },
  {
   "cell_type": "code",
   "execution_count": 12,
   "metadata": {
    "collapsed": false
   },
   "outputs": [
    {
     "name": "stdout",
     "output_type": "stream",
     "text": [
      "tlk_cgm_kin: Wrote fig_cosdwarf_kin_hist.pdf\n"
     ]
    }
   ],
   "source": [
    "# Histograms\n",
    "reload(tkin)\n",
    "tkin.fig_cosdwarf_hist(cos_dwarfs=cos_dwarfs)"
   ]
  },
  {
   "cell_type": "markdown",
   "metadata": {},
   "source": [
    "### Tests"
   ]
  },
  {
   "cell_type": "code",
   "execution_count": 14,
   "metadata": {
    "collapsed": false
   },
   "outputs": [
    {
     "name": "stdout",
     "output_type": "stream",
     "text": [
      "cos_halos: Reading /u/xavier/Dropbox/COS-Halos/lowions/FITS/J1016+4706.274_6.fits\n"
     ]
    }
   ],
   "source": [
    "cos_halos = cosha.COSHalos()\n",
    "cos_halos.load_single( ('J1016+4706', '274_6') )\n",
    "cgm_abs = cos_halos.cgm_abs[0]"
   ]
  },
  {
   "cell_type": "code",
   "execution_count": 24,
   "metadata": {
    "collapsed": true
   },
   "outputs": [],
   "source": [
    "from xastropy.abund import solar as xsolar\n",
    "from xastropy.atomic.elements import ELEMENTS"
   ]
  },
  {
   "cell_type": "code",
   "execution_count": 36,
   "metadata": {
    "collapsed": false
   },
   "outputs": [
    {
     "data": {
      "text/latex": [
       "$0.32407793 \\; \\mathrm{}$"
      ],
      "text/plain": [
       "<Quantity 0.32407792894697557>"
      ]
     },
     "execution_count": 36,
     "metadata": {},
     "output_type": "execute_result"
    }
   ],
   "source": [
    "1e24*u.cm/(1e6*const.pc.cgs)"
   ]
  },
  {
   "cell_type": "code",
   "execution_count": 39,
   "metadata": {
    "collapsed": false
   },
   "outputs": [
    {
     "data": {
      "text/plain": [
       "array([  10.        ,   23.33333333,   36.66666667,   50.        ,\n",
       "         63.33333333,   76.66666667,   90.        ,  103.33333333,\n",
       "        116.66666667,  130.        ])"
      ]
     },
     "execution_count": 39,
     "metadata": {},
     "output_type": "execute_result"
    }
   ],
   "source": [
    "npt=10\n",
    "xeV = np.linspace(10., 130., npt)\n",
    "xeV"
   ]
  },
  {
   "cell_type": "code",
   "execution_count": null,
   "metadata": {
    "collapsed": true
   },
   "outputs": [],
   "source": []
  }
 ],
 "metadata": {
  "kernelspec": {
   "display_name": "Python 2",
   "language": "python",
   "name": "python2"
  },
  "language_info": {
   "codemirror_mode": {
    "name": "ipython",
    "version": 2
   },
   "file_extension": ".py",
   "mimetype": "text/x-python",
   "name": "python",
   "nbconvert_exporter": "python",
   "pygments_lexer": "ipython2",
   "version": "2.7.10"
  }
 },
 "nbformat": 4,
 "nbformat_minor": 0
}
