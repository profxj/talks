{
 "cells": [
  {
   "cell_type": "markdown",
   "metadata": {},
   "source": [
    "# Figures for DLA HI measurements"
   ]
  },
  {
   "cell_type": "code",
   "execution_count": 1,
   "metadata": {
    "collapsed": true
   },
   "outputs": [],
   "source": [
    "# imports\n",
    "from pyigm.surveys.dlasurvey import DLASurvey"
   ]
  },
  {
   "cell_type": "markdown",
   "metadata": {},
   "source": [
    "## $\\rho_{\\rm HI}$"
   ]
  },
  {
   "cell_type": "code",
   "execution_count": 3,
   "metadata": {},
   "outputs": [
    {
     "name": "stdout",
     "output_type": "stream",
     "text": [
      "SDSS-DR5: Loading DLA file /home/xavier/local/Python/pyigm/pyigm/data/DLA/SDSS_DR5/dr5_alldla.fits.gz\n",
      "SDSS-DR5: Loading QSOs file /home/xavier/local/Python/pyigm/pyigm/data/DLA/SDSS_DR5/dr5_dlagz_s2n4.fits\n",
      "SDSS-DR5: Performing stats\n",
      "SDSS-DR5: Loaded\n"
     ]
    },
    {
     "name": "stderr",
     "output_type": "stream",
     "text": [
      "/home/xavier/local/Python/pyigm/pyigm/surveys/dlasurvey.py:1017: UserWarning: Resetting mask to None.  Be careful here\n",
      "  warnings.warn(\"Resetting mask to None.  Be careful here\")\n"
     ]
    }
   ],
   "source": [
    "sdss= DLASurvey.load_SDSS_DR5()"
   ]
  },
  {
   "cell_type": "code",
   "execution_count": 4,
   "metadata": {
    "collapsed": true
   },
   "outputs": [],
   "source": [
    "rho_HI = sdss.binned_rhoHI?"
   ]
  },
  {
   "cell_type": "code",
   "execution_count": 5,
   "metadata": {
    "collapsed": true
   },
   "outputs": [],
   "source": [
    "rho_HI = sdss.binned_rhoHI([2.2,2.4,2.75,3.,3.5,4.5])"
   ]
  },
  {
   "cell_type": "code",
   "execution_count": 6,
   "metadata": {},
   "outputs": [
    {
     "data": {
      "text/plain": [
       "(<Quantity [  5.40162175e+07,  6.80950243e+07,  7.70810664e+07,\n",
       "              9.97739411e+07,  1.13796975e+08] solMass / Mpc3>,\n",
       " <Quantity [ 10801620.58299229, 11413144.57932009, 14669090.75822446,\n",
       "             16984576.55214142, 18153692.05951504] solMass / Mpc3>,\n",
       " <Quantity [ 11223073.59636739, 11648009.34165489, 14906161.69596276,\n",
       "             17167840.09681631, 18768958.3725532 ] solMass / Mpc3>)"
      ]
     },
     "execution_count": 6,
     "metadata": {},
     "output_type": "execute_result"
    }
   ],
   "source": [
    "rho_HI"
   ]
  },
  {
   "cell_type": "code",
   "execution_count": null,
   "metadata": {
    "collapsed": true
   },
   "outputs": [],
   "source": []
  }
 ],
 "metadata": {
  "kernelspec": {
   "display_name": "Python 3",
   "language": "python",
   "name": "python3"
  },
  "language_info": {
   "codemirror_mode": {
    "name": "ipython",
    "version": 3
   },
   "file_extension": ".py",
   "mimetype": "text/x-python",
   "name": "python",
   "nbconvert_exporter": "python",
   "pygments_lexer": "ipython3",
   "version": "3.6.2"
  }
 },
 "nbformat": 4,
 "nbformat_minor": 2
}
